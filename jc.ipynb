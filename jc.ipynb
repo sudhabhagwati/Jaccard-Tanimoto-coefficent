{
 "cells": [
  {
   "cell_type": "code",
   "execution_count": 1,
   "metadata": {},
   "outputs": [],
   "source": [
    "import numpy as np\n",
    "import pandas"
   ]
  },
  {
   "cell_type": "code",
   "execution_count": 2,
   "metadata": {},
   "outputs": [],
   "source": [
    "def compute_jaccards_coefficient(sequence_1, sequence_2):\n",
    "    \"\"\" Computes Jaccard's coefficient between two binary sequences.\n",
    "    :param seqeunce_1: numpy array with first bit sequence\n",
    "    :param seqeunce_2: numpy array with second bit sequence\n",
    "    :returns: jaccard's coefficient\n",
    "    \"\"\"\n",
    "    p = np.count_nonzero(np.logical_and(sequence_1, sequence_2))    \n",
    "    s = np.count_nonzero(np.logical_not(np.logical_or(sequence_1, sequence_2)))\n",
    "    q = np.count_nonzero(np.logical_and(sequence_1, np.logical_not(sequence_2)))\n",
    "    r = np.count_nonzero(np.logical_and(np.logical_not(sequence_1), sequence_2))\n",
    "    j = (q+r)/(p+q+r+s)\n",
    "    return 1-j"
   ]
  },
  {
   "cell_type": "code",
   "execution_count": 3,
   "metadata": {},
   "outputs": [
    {
     "data": {
      "text/plain": [
       "0.0"
      ]
     },
     "execution_count": 3,
     "metadata": {},
     "output_type": "execute_result"
    }
   ],
   "source": [
    "# Example 1\n",
    "s1 = np.array([0,0,0,0])\n",
    "s2 = np.array([1,1,1,1])\n",
    "compute_jaccards_coefficient(s1, s2)"
   ]
  },
  {
   "cell_type": "code",
   "execution_count": 4,
   "metadata": {},
   "outputs": [
    {
     "data": {
      "text/plain": [
       "1.0"
      ]
     },
     "execution_count": 4,
     "metadata": {},
     "output_type": "execute_result"
    }
   ],
   "source": [
    "# Example 2\n",
    "s1 = np.array([1,1,1,1])\n",
    "s2 = np.array([1,1,1,1])\n",
    "compute_jaccards_coefficient(s1, s2)"
   ]
  },
  {
   "cell_type": "code",
   "execution_count": 5,
   "metadata": {},
   "outputs": [],
   "source": [
    "df = pandas.read_excel('All_comps.xlsx', sheet_name='ExFP')"
   ]
  },
  {
   "cell_type": "code",
   "execution_count": 7,
   "metadata": {},
   "outputs": [],
   "source": [
    "mol1_fp = np.asarray(df.iloc[0][1:])\n",
    "mol2_fp = np.asarray(df.iloc[1][1:])\n",
    "mol3_fp = np.asarray(df.iloc[2][1:])\n",
    "mol4_fp = np.asarray(df.iloc[3][1:])\n",
    "mol5_fp = np.asarray(df.iloc[4][1:])\n",
    "mol6_fp = np.asarray(df.iloc[5][1:])\n",
    "mol7_fp = np.asarray(df.iloc[6][1:])\n",
    "mol8_fp = np.asarray(df.iloc[7][1:])"
   ]
  },
  {
   "cell_type": "code",
   "execution_count": 8,
   "metadata": {},
   "outputs": [
    {
     "name": "stdout",
     "output_type": "stream",
     "text": [
      "Jaccards coefficient 0.671875\n",
      "Jaccards coefficient 0.5703125\n",
      "Jaccards coefficient 0.6298828125\n",
      "Jaccards coefficient 0.5546875\n",
      "Jaccards coefficient 0.654296875\n",
      "Jaccards coefficient 0.58203125\n",
      "Jaccards coefficient 0.6484375\n"
     ]
    }
   ],
   "source": [
    "print('Jaccards coefficient', compute_jaccards_coefficient(mol1_fp, mol8_fp))\n",
    "print('Jaccards coefficient', compute_jaccards_coefficient(mol2_fp, mol8_fp))\n",
    "print('Jaccards coefficient', compute_jaccards_coefficient(mol3_fp, mol8_fp))\n",
    "print('Jaccards coefficient', compute_jaccards_coefficient(mol4_fp, mol8_fp))\n",
    "print('Jaccards coefficient', compute_jaccards_coefficient(mol5_fp, mol8_fp))\n",
    "print('Jaccards coefficient', compute_jaccards_coefficient(mol6_fp, mol8_fp))\n",
    "print('Jaccards coefficient', compute_jaccards_coefficient(mol7_fp, mol8_fp))"
   ]
  },
  {
   "cell_type": "code",
   "execution_count": null,
   "metadata": {},
   "outputs": [],
   "source": []
  }
 ],
 "metadata": {
  "kernelspec": {
   "display_name": "ml-env",
   "language": "python",
   "name": "ml-env"
  },
  "language_info": {
   "codemirror_mode": {
    "name": "ipython",
    "version": 3
   },
   "file_extension": ".py",
   "mimetype": "text/x-python",
   "name": "python",
   "nbconvert_exporter": "python",
   "pygments_lexer": "ipython3",
   "version": "3.7.2"
  }
 },
 "nbformat": 4,
 "nbformat_minor": 2
}
